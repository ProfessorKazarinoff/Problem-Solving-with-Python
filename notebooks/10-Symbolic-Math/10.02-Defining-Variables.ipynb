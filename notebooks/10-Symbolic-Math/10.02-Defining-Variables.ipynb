{
 "cells": [
  {
   "cell_type": "markdown",
   "metadata": {},
   "source": [
    "## Defining Variables"
   ]
  },
  {
   "cell_type": "markdown",
   "metadata": {},
   "source": [
    "Before we can construct symbolic math expressions or symbolic math equations, we first need to create symbolic math variables, also called symbolic math _symbols_.\n",
    "\n",
    "To define symbolic math variables with SymPy,  first import the ```symbols()``` function from the SymPy module:"
   ]
  },
  {
   "cell_type": "code",
   "execution_count": 1,
   "metadata": {},
   "outputs": [],
   "source": [
    "from sympy import symbols"
   ]
  },
  {
   "cell_type": "markdown",
   "metadata": {},
   "source": [
    "Symbolic math symbols are declared using SymPy's ```symbols()``` function. A string is passed to the ```symbols()``` function as an input argument and the output is assigned to a SymPy symbols object (not a string)."
   ]
  },
  {
   "cell_type": "code",
   "execution_count": 2,
   "metadata": {},
   "outputs": [],
   "source": [
    "x = symbols('x')\n",
    "y = symbols('y')"
   ]
  },
  {
   "cell_type": "markdown",
   "metadata": {},
   "source": [
    "SymPy's ```symbol()``` function can define multiple symbols in the same line of code. Note the input arguments passed to the ```symbols()``` function is a string, entries separated by a space (no comma) and surrounded by quotes. The output of the ```symbols()``` function are SymPy symbol objects. Commas separate these output objects (no quotation marks)."
   ]
  },
  {
   "cell_type": "code",
   "execution_count": 3,
   "metadata": {},
   "outputs": [],
   "source": [
    "x, y = symbols('x y')"
   ]
  }
 ],
 "metadata": {
  "kernelspec": {
   "display_name": "Python 3",
   "language": "python",
   "name": "python3"
  },
  "language_info": {
   "codemirror_mode": {
    "name": "ipython",
    "version": 3
   },
   "file_extension": ".py",
   "mimetype": "text/x-python",
   "name": "python",
   "nbconvert_exporter": "python",
   "pygments_lexer": "ipython3",
   "version": "3.6.8"
  }
 },
 "nbformat": 4,
 "nbformat_minor": 2
}
