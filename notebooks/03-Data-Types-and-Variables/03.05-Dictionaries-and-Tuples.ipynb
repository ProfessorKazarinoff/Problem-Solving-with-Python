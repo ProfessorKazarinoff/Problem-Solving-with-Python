{
 "cells": [
  {
   "cell_type": "markdown",
   "metadata": {},
   "source": [
    "## Dictionaries and Tuples"
   ]
  },
  {
   "cell_type": "markdown",
   "metadata": {},
   "source": [
    "Besides lists, Python has two additional data structures that can store multiple objects. These data structures are _dictionaries_ and _tuples_."
   ]
  },
  {
   "cell_type": "markdown",
   "metadata": {},
   "source": [
    "### Dictionaries"
   ]
  },
  {
   "cell_type": "markdown",
   "metadata": {},
   "source": [
    "Dictionaries are made up of key: value pairs. In Python, lists are organized and accessed based on position. Dictionaries in Python are organized and accessed using keys and values. The location of a pair of keys and values stored in a Python dictionary is irrelevant.\n",
    "\n",
    "Dictionaries are defined in Python with curly braces ```{  }```. Commas separate the key-value pairs that make up the dictionary. Each key-value pair is related by a colon ``` : ```.\n",
    "\n",
    "Let's store the ages of two people in a dictionary. The two people are ```Gabby``` and ```Maelle```. ```Gabby``` is ```8``` and ```Maelle``` is ```5```. Note the name ```Gabby``` is a string and the age ```8``` is an integer.\n",
    "\n",
    "```python\n",
    ">>> age_dict = {\"Gabby\": 8 , \"Maelle\": 5}\n",
    ">>> type(age_dict)\n",
    "dict\n",
    "```\n",
    "\n",
    "The values stored in a dictionary are called and assigned using the following syntax:\n",
    "\n",
    "```python\n",
    "dict_name[key] = value\n",
    "```\n",
    "\n",
    "```python\n",
    ">>> age_dict = {\"Gabby\": 8 , \"Maelle\": 5}\n",
    ">>> age_dict[\"Gabby\"]\n",
    "8\n",
    "```\n",
    "\n",
    "We can add a new person to our ```age_dict``` with the following command:\n",
    "\n",
    "```python\n",
    ">>> age_dict = {\"Gabby\": 8 , \"Maelle\": 5}\n",
    "\n",
    ">>> age_dict[\"Peter\"]= 40\n",
    ">>> age_dict\n",
    "{'Gabby': 8, 'Maelle': 5, 'Peter': 40}\n",
    "```\n",
    "\n",
    "Dictionaries can be converted to lists by calling the ```.items()```, ```.keys()```, and ```.values()``` methods. \n",
    "\n",
    "```python\n",
    ">>> age_dict = {\"Gabby\": 8 , \"Maelle\": 5}\n",
    "\n",
    ">>> whole_list = list(age_dict.items())\n",
    ">>> whole_list\n",
    "[('Gabby', 8), ('Maelle', 5)]\n",
    "\n",
    ">>> name_list = list(age_dict.keys())\n",
    ">>> name_list\n",
    "['Gabby', 'Maelle']\n",
    "\n",
    ">>> age_list = list(age_dict.values())\n",
    ">>> age_list\n",
    "[8, 5]\n",
    "```\n",
    "\n",
    "Items can be removed from dictionaries by calling the ```.pop()``` method. The dictionary key (and that key's associated value) supplied to the ```.pop()``` method is removed from the dictionary.\n",
    "\n",
    "```python\n",
    ">>> age_dict = {\"Gabby\": 8 , \"Maelle\": 5}\n",
    ">>> age_dict.pop(\"Gabby\")\n",
    ">>> age_dict\n",
    "{'Maelle': 5}\n",
    "```"
   ]
  },
  {
   "cell_type": "markdown",
   "metadata": {},
   "source": [
    "### Tuples"
   ]
  },
  {
   "cell_type": "markdown",
   "metadata": {},
   "source": [
    "Tuples are immutable lists. Elements of a list can be modified, but elements in a tuple can only be accessed, not modified. The name _tuple_ does not mean that only two values can be stored in this data structure.\n",
    "\n",
    "Tuples are defined in Python by enclosing elements in parenthesis ```( )``` and separating elements with commas. The command below creates a tuple containing the numbers ```3```, ```4```, and ```5```.\n",
    "\n",
    "\n",
    "```python\n",
    ">>> t_var = (3,4,5)\n",
    ">>> t_var\n",
    "(3, 4, 5)\n",
    "```\n",
    "\n",
    "Note how the elements of a list can be modified: \n",
    "\n",
    "```python\n",
    ">>> l_var = [3,4,5]  # a list\n",
    ">>> l_var[0]= 8\n",
    ">>> l_var\n",
    "[8, 4, 5]\n",
    "```\n",
    "\n",
    "The elements of a tuple can not be modified. If you try to assign a new value to one of the elements in a tuple, an error is returned.\n",
    "\n",
    "```python\n",
    ">>> t_var = (3,4,5)  # a tuple\n",
    ">>> t_var[0]= 8\n",
    ">>> t_var\n",
    "\n",
    "TypeError: 'tuple' object does not support item assignment\n",
    "```\n",
    "\n",
    "To create a tuple that just contains one numerical value, the number must be followed by a comma. Without a comma, the variable is defined as a number.\n",
    "\n",
    "```python\n",
    ">>> num = (5)\n",
    ">>> type(num)\n",
    "int\n",
    "```\n",
    "\n",
    "When a comma is included after the number, the variable is defined as a tuple.\n",
    "\n",
    "```python\n",
    ">>> t_var = (5,)\n",
    ">>> type(t_var)\n",
    "tuple\n",
    "```"
   ]
  },
  {
   "cell_type": "code",
   "execution_count": null,
   "metadata": {},
   "outputs": [],
   "source": []
  }
 ],
 "metadata": {
  "kernelspec": {
   "display_name": "Python 3",
   "language": "python",
   "name": "python3"
  },
  "language_info": {
   "codemirror_mode": {
    "name": "ipython",
    "version": 3
   },
   "file_extension": ".py",
   "mimetype": "text/x-python",
   "name": "python",
   "nbconvert_exporter": "python",
   "pygments_lexer": "ipython3",
   "version": "3.6.8"
  }
 },
 "nbformat": 4,
 "nbformat_minor": 2
}
